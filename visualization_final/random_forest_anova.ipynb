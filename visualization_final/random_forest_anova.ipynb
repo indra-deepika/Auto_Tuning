{
 "cells": [
  {
   "cell_type": "code",
   "execution_count": null,
   "metadata": {},
   "outputs": [],
   "source": [
    "import pandas as pd\n",
    "import numpy as np\n",
    "from sklearn.ensemble import RandomForestRegressor\n",
    "from sklearn.model_selection import train_test_split\n",
    "from sklearn.metrics import mean_squared_error\n",
    "import scipy.stats as stats\n",
    "import matplotlib.pyplot as plt\n",
    "import seaborn as sns\n",
    "\n",
    "# Load the data\n",
    "data = pd.read_csv('/content/rocksdb_performance_data_fillrandom.csv')\n"
   ]
  },
  {
   "cell_type": "code",
   "execution_count": null,
   "metadata": {},
   "outputs": [],
   "source": [
    "\n",
    "# Define the feature columns and target column\n",
    "features = [\n",
    "    'max_background_compactions',\n",
    "    'max_background_flushes',\n",
    "    'write_buffer_size',\n",
    "    'max_write_buffer_number',\n",
    "    'min_write_buffer_number_to_merge',\n",
    "    'max_bytes_for_level_multiplier',\n",
    "    'block_size',\n",
    "    'level0_file_num_compaction_trigger',\n",
    "    'level0_slowdown_writes_trigger',\n",
    "    'level0_stop_writes_trigger',\n",
    "    'target_file_size_multiplier',\n",
    "    'target_file_size_base'\n",
    "]\n",
    "target_ops = 'ops_per_sec'\n",
    "target_micro = 'micros_per_op'\n",
    "\n"
   ]
  },
  {
   "cell_type": "code",
   "execution_count": null,
   "metadata": {},
   "outputs": [],
   "source": [
    "# Split the data into training and testing sets\n",
    "X = data[features]\n",
    "y_ops = data[target_ops]\n",
    "y_micro = data[target_micro]\n",
    "\n",
    "X_train, X_test, y_train_ops, y_test_ops = train_test_split(X, y_ops, test_size=0.2, random_state=42)\n",
    "X_train, X_test, y_train_micro, y_test_micro = train_test_split(X, y_micro, test_size=0.2, random_state=42)\n",
    "\n"
   ]
  },
  {
   "cell_type": "code",
   "execution_count": null,
   "metadata": {},
   "outputs": [],
   "source": [
    "# Build and train the random forest model for ops_per_sec\n",
    "rf_ops = RandomForestRegressor(n_estimators=100, random_state=42)\n",
    "rf_ops.fit(X_train, y_train_ops)\n",
    "y_pred_ops = rf_ops.predict(X_test)\n",
    "print(f'Random Forest MSE for ops_per_sec: {mean_squared_error(y_test_ops, y_pred_ops)}')\n",
    "\n",
    "# Build and train the random forest model for micros_per_op\n",
    "rf_micro = RandomForestRegressor(n_estimators=100, random_state=42)\n",
    "rf_micro.fit(X_train, y_train_micro)\n",
    "y_pred_micro = rf_micro.predict(X_test)\n",
    "print(f'Random Forest MSE for micros_per_op: {mean_squared_error(y_test_micro, y_pred_micro)}')\n",
    "\n"
   ]
  },
  {
   "cell_type": "code",
   "execution_count": null,
   "metadata": {},
   "outputs": [],
   "source": [
    "# Feature importance\n",
    "importance_ops = rf_ops.feature_importances_\n",
    "importance_micro = rf_micro.feature_importances_\n",
    "\n",
    "# Create a DataFrame for feature importance\n",
    "feature_importance_ops = pd.DataFrame({'Feature': features, 'Importance': importance_ops})\n",
    "feature_importance_ops = feature_importance_ops.sort_values(by='Importance', ascending=False)\n",
    "\n",
    "feature_importance_micro = pd.DataFrame({'Feature': features, 'Importance': importance_micro})\n",
    "feature_importance_micro = feature_importance_micro.sort_values(by='Importance', ascending=False)\n",
    "\n",
    "print(feature_importance_ops)\n",
    "print(feature_importance_micro)\n",
    "\n"
   ]
  },
  {
   "cell_type": "code",
   "execution_count": null,
   "metadata": {},
   "outputs": [],
   "source": [
    "# Visualization\n",
    "# Feature Importance Bar Plot for ops_per_sec\n",
    "plt.figure(figsize=(10, 6))\n",
    "sns.barplot(x='Importance', y='Feature', data=feature_importance_ops)\n",
    "plt.title('Feature Importance for ops_per_sec')\n",
    "plt.show()\n",
    "\n",
    "\n"
   ]
  },
  {
   "cell_type": "code",
   "execution_count": null,
   "metadata": {},
   "outputs": [],
   "source": [
    "# Feature Importance Bar Plot for micros_per_op\n",
    "plt.figure(figsize=(10, 6))\n",
    "sns.barplot(x='Importance', y='Feature', data=feature_importance_micro)\n",
    "plt.title('Feature Importance for micros_per_op')\n",
    "plt.show()\n",
    "\n"
   ]
  },
  {
   "cell_type": "code",
   "execution_count": null,
   "metadata": {},
   "outputs": [],
   "source": [
    "# Pairplot to see relationships between features and target\n",
    "sns.pairplot(data, y_vars=[target_ops, target_micro], x_vars=features)\n",
    "plt.show()\n"
   ]
  },
  {
   "cell_type": "markdown",
   "metadata": {},
   "source": [
    "ANOVA\n"
   ]
  },
  {
   "cell_type": "code",
   "execution_count": null,
   "metadata": {},
   "outputs": [],
   "source": [
    "# Perform ANOVA for each parameter to see if it has an impact on ops_per_sec\n",
    "anova_results = {}\n",
    "for feature in features:\n",
    "    groups = [group[1].values for group in data.groupby(feature)[target_ops]]\n",
    "    anova_results[feature] = stats.f_oneway(*groups)\n",
    "\n",
    "# Print ANOVA results\n",
    "for feature, result in anova_results.items():\n",
    "    print(f'ANOVA results for {feature}: F-statistic = {result.statistic}, p-value = {result.pvalue}')\n",
    "\n",
    "\n"
   ]
  },
  {
   "cell_type": "code",
   "execution_count": null,
   "metadata": {},
   "outputs": [],
   "source": [
    "# Visualization of ANOVA results (p-values)\n",
    "anova_df = pd.DataFrame({\n",
    "    'Feature': features,\n",
    "    'F-statistic': [anova_results[feature].statistic for feature in features],\n",
    "    'p-value': [anova_results[feature].pvalue for feature in features]\n",
    "})\n",
    "anova_df = anova_df.sort_values(by='p-value')\n",
    "\n",
    "plt.figure(figsize=(10, 6))\n",
    "sns.barplot(x='p-value', y='Feature', data=anova_df)\n",
    "plt.axvline(x=0.05, color='r', linestyle='--')\n",
    "plt.title('ANOVA p-values for each feature (impact on ops_per_sec)')\n",
    "plt.xlabel('p-value')\n",
    "plt.ylabel('Feature')\n",
    "plt.show()"
   ]
  }
 ],
 "metadata": {
  "language_info": {
   "name": "python"
  }
 },
 "nbformat": 4,
 "nbformat_minor": 2
}
