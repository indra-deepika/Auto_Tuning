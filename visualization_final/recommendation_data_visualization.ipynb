{
 "cells": [
  {
   "cell_type": "markdown",
   "metadata": {},
   "source": [
    "To plot metric / knob value changes over Rounds "
   ]
  },
  {
   "cell_type": "code",
   "execution_count": null,
   "metadata": {},
   "outputs": [],
   "source": [
    "import pandas as pd\n",
    "import matplotlib.pyplot as plt\n",
    "import numpy as np\n",
    "import matplotlib\n",
    "import matplotlib.pyplot as plt\n",
    "\n",
    "\n",
    "# Sample data in dictionary format\n",
    "import pandas as pd\n",
    "import matplotlib.pyplot as plt"
   ]
  },
  {
   "cell_type": "code",
   "execution_count": null,
   "metadata": {},
   "outputs": [],
   "source": [
    "# Load the data\n",
    "data = pd.read_csv('../data_every_100_rounds.csv')  # Replace with the path to your data file\n",
    "\n",
    "# List of all metrics columns, assuming 'Round' is excluded\n",
    "metrics_columns = data.columns.drop('Round')\n",
    "\n",
    "# Create a plot for each metric\n",
    "for metric in metrics_columns:\n",
    "    plt.figure(figsize=(10, 5))\n",
    "    plt.scatter(data['Round'], data[metric], marker='o', linestyle='-', label=metric)\n",
    "    plt.title(f\"{metric} Over Rounds\")\n",
    "    plt.xlabel('Round')\n",
    "    plt.ylabel(metric)\n",
    "    plt.grid(True)\n",
    "    plt.legend()\n",
    "    # plt.savefig(f\"{metric}_over_rounds.png\")  # Save each plot as a PNG file\n",
    "    plt.show()"
   ]
  }
 ],
 "metadata": {
  "kernelspec": {
   "display_name": "Python 3",
   "language": "python",
   "name": "python3"
  },
  "language_info": {
   "codemirror_mode": {
    "name": "ipython",
    "version": 3
   },
   "file_extension": ".py",
   "mimetype": "text/x-python",
   "name": "python",
   "nbconvert_exporter": "python",
   "pygments_lexer": "ipython3",
   "version": "3.8.10"
  }
 },
 "nbformat": 4,
 "nbformat_minor": 2
}
